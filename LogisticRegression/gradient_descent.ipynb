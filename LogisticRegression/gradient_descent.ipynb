{
 "cells": [
  {
   "attachments": {},
   "cell_type": "markdown",
   "metadata": {},
   "source": [
    "# Gradient Descent \n",
    "Recall the gradient descent algorithm utilizes the gradient calculation:\n",
    "$$\\begin{align*}\n",
    "&\\text{repeat until convergence:} \\; \\lbrace \\\\\n",
    "&  \\; \\; \\;w_j = w_j -  \\alpha \\frac{\\partial J(\\mathbf{w},b)}{\\partial w_j} \\tag{1}  \\; & \\text{for j := 0..n-1} \\\\ \n",
    "&  \\; \\; \\;  \\; \\;b = b -  \\alpha \\frac{\\partial J(\\mathbf{w},b)}{\\partial b} \\\\\n",
    "&\\rbrace\n",
    "\\end{align*}$$\n",
    "\n",
    "Where each iteration performs simultaneous updates on $w_j$ for all $j$, where\n",
    "$$\\begin{align*}\n",
    "\\frac{\\partial J(\\mathbf{w},b)}{\\partial w_j}  &= \\frac{1}{m} \\sum\\limits_{i = 0}^{m-1} (f_{\\mathbf{w},b}(\\mathbf{x}^{(i)}) - y^{(i)})x_{j}^{(i)} \\tag{2} \\\\\n",
    "\\frac{\\partial J(\\mathbf{w},b)}{\\partial b}  &= \\frac{1}{m} \\sum\\limits_{i = 0}^{m-1} (f_{\\mathbf{w},b}(\\mathbf{x}^{(i)}) - y^{(i)}) \\tag{3} \n",
    "\\end{align*}$$\n",
    "\n",
    "* m is the number of training examples in the data set      \n",
    "* $f_{\\mathbf{w},b}(x^{(i)})$ is the model's prediction, while $y^{(i)}$ is the target\n",
    "* For a logistic regression model  \n",
    "    $z = \\mathbf{w} \\cdot \\mathbf{x} + b$  \n",
    "    $f_{\\mathbf{w},b}(x) = g(z)$  \n",
    "    where $g(z)$ is the sigmoid function:  \n",
    "    $g(z) = \\frac{1}{1+e^{-z}}$   "
   ]
  },
  {
   "cell_type": "code",
   "execution_count": 1,
   "metadata": {},
   "outputs": [
    {
     "name": "stdout",
     "output_type": "stream",
     "text": [
      "[[0.5 1.5 0. ]\n",
      " [1.  1.  0. ]\n",
      " [1.5 0.5 0. ]\n",
      " [3.  0.5 1. ]\n",
      " [2.  2.  1. ]\n",
      " [1.  2.5 1. ]]\n"
     ]
    }
   ],
   "source": [
    "import numpy as np \n",
    "import matplotlib.pyplot as plt \n",
    "from copy import deepcopy\n",
    "import math\n",
    "X_train = np.array([[0.5, 1.5], [1,1], [1.5, 0.5], [3, 0.5], [2, 2], [1, 2.5]])\n",
    "y_train = np.array([0, 0, 0, 1, 1, 1])\n",
    "print(np.c_[X_train,y_train])"
   ]
  },
  {
   "cell_type": "code",
   "execution_count": 2,
   "metadata": {},
   "outputs": [
    {
     "name": "stdout",
     "output_type": "stream",
     "text": [
      "[[3.  0.5]\n",
      " [2.  2. ]\n",
      " [1.  2.5]]\n",
      "[[3.  0.5 0.5 1.5]\n",
      " [2.  2.  1.  1. ]\n",
      " [1.  2.5 1.5 0.5]]\n"
     ]
    },
    {
     "data": {
      "image/png": "[encoded data removed]",
      "text/plain": [
       "<Figure size 400x400 with 1 Axes>"
      ]
     },
     "metadata": {},
     "output_type": "display_data"
    }
   ],
   "source": [
    "fig,ax = plt.subplots(1,1,figsize=(4,4),sharey=True)\n",
    "\n",
    "def plot_data(X,y,ax,pos_label=\"y=1\",neg_label=\"y=0\"):\n",
    "    pos = y == 1 \n",
    "    neg = y == 0 \n",
    "    print(X[pos])\n",
    "    print(np.c_[X[pos,0],X[pos,1],X[neg,0],X[neg,1]])\n",
    "    ax.scatter(X[pos,0],X[pos,1],c='r',marker='x',label=pos_label)\n",
    "    ax.scatter(X[neg,0],X[neg,1],marker='o',label=neg_label,edgecolors=\"blue\",facecolors=\"none\",linewidths=3)\n",
    "\n",
    "plot_data(X_train,y_train,ax)\n",
    "ax.axis([0,4,0,3.5])\n",
    "ax.set_ylabel('$x_1$', fontsize=12)\n",
    "ax.set_xlabel('$x_0$', fontsize=12)\n",
    "ax.legend()\n",
    "plt.show()"
   ]
  },
  {
   "cell_type": "code",
   "execution_count": 3,
   "metadata": {},
   "outputs": [],
   "source": [
    "def sigmoid(z):\n",
    "    \"\"\" \n",
    "    computes sigmoid of the z \n",
    "    args \n",
    "    z : scalar value \n",
    "    returns \n",
    "    1/1+(e^-z) \n",
    "    \"\"\" \n",
    "    # np.clip(z,-500,500)\n",
    "    return 1 / (1 + np.exp(-z))"
   ]
  },
  {
   "cell_type": "code",
   "execution_count": 4,
   "metadata": {},
   "outputs": [],
   "source": [
    "def compute_cost_logistic(X,y,w,b):\n",
    "    \"\"\" \n",
    "    Computes cost function for logistic function \n",
    "    Args:\n",
    "      X (ndarray (m,n)): Data, m examples with n features\n",
    "      y (ndarray (m,)) : target values\n",
    "      w (ndarray (n,)) : model parameters  \n",
    "      b (scalar)       : model parameter\n",
    "      \n",
    "    Returns:\n",
    "      cost (scalar): cost\n",
    "    \"\"\"\n",
    "\n",
    "    m = X.shape[0]\n",
    "    cost = 0.0\n",
    "\n",
    "    for i in range(m):\n",
    "      z_i = np.dot(X[i],w) + b \n",
    "      f_wb_i = sigmoid(z_i)\n",
    "      loss_i = -(y[i] * np.log(f_wb_i) +(1-y[i]) * np.log(1-f_wb_i))\n",
    "      cost += loss_i\n",
    "\n",
    "    return cost/m"
   ]
  },
  {
   "cell_type": "code",
   "execution_count": 5,
   "metadata": {},
   "outputs": [],
   "source": [
    "def compute_gradient_logistic(X,y,w,b):\n",
    "    \"\"\" \n",
    "    Computes the gradient for linear regression \n",
    " \n",
    "    Args:\n",
    "      X (ndarray (m,n): Data, m examples with n features\n",
    "      y (ndarray (m,)): target values\n",
    "      w (ndarray (n,)): model parameters  \n",
    "      b (scalar)      : model parameter\n",
    "    Returns\n",
    "      dj_dw (ndarray (n,)): The gradient of the cost w.r.t. the parameters w. \n",
    "      dj_db (scalar)      : The gradient of the cost w.r.t. the parameter b.\n",
    "    \"\"\" \n",
    "    n,m = X.shape\n",
    "    dj_dw = np.zeros((m,)) \n",
    "    dj_db = 0.\n",
    "\n",
    "    for i in range(n):\n",
    "        f_wb_i = sigmoid(np.dot(X[i],w) + b )\n",
    "        err_i = f_wb_i - y[i]\n",
    "        for j in range(m):\n",
    "            dj_dw[j] += err_i * X[i,j]\n",
    "        dj_db += err_i\n",
    "    \n",
    "    dj_dw /= n\n",
    "    dj_db /= n \n",
    "\n",
    "    return dj_dw,dj_db"
   ]
  },
  {
   "cell_type": "code",
   "execution_count": 6,
   "metadata": {},
   "outputs": [
    {
     "name": "stdout",
     "output_type": "stream",
     "text": [
      "[0.49833339 0.49883943] 0.49861806546328574\n"
     ]
    }
   ],
   "source": [
    "X_tmp = np.array([[0.5, 1.5], [1,1], [1.5, 0.5], [3, 0.5], [2, 2], [1, 2.5]])\n",
    "y_tmp = np.array([0, 0, 0, 1, 1, 1])\n",
    "w_tmp = np.array([2.,3.])\n",
    "b_tmp = 1.\n",
    "dj_dw_tmp,dj_db_tmp = compute_gradient_logistic(X_tmp,y_tmp,w_tmp,b_tmp)\n",
    "print(dj_dw_tmp,dj_db_tmp)"
   ]
  },
  {
   "cell_type": "code",
   "execution_count": 7,
   "metadata": {},
   "outputs": [],
   "source": [
    "def gradient_descent(X, y, w_in, b_in, alpha, num_iters): \n",
    "    \"\"\"\n",
    "    Performs batch gradient descent\n",
    "    \n",
    "    Args:\n",
    "      X (ndarray (m,n)   : Data, m examples with n features\n",
    "      y (ndarray (m,))   : target values\n",
    "      w_in (ndarray (n,)): Initial values of model parameters  \n",
    "      b_in (scalar)      : Initial values of model parameter\n",
    "      alpha (float)      : Learning rate\n",
    "      num_iters (scalar) : number of iterations to run gradient descent\n",
    "      \n",
    "    Returns:\n",
    "      w (ndarray (n,))   : Updated values of parameters\n",
    "      b (scalar)         : Updated value of parameter \n",
    "    \"\"\"\n",
    "    J_history = []\n",
    "    w_fin = deepcopy(w_in)\n",
    "    b_fin = b_in \n",
    "    for i in range(num_iters):\n",
    "      \n",
    "      dj_dw, dj_db = compute_gradient_logistic(X,y,w_fin,b_fin)\n",
    "      w_fin = w_fin - alpha * dj_dw\n",
    "      b_fin = b_fin - alpha * dj_db \n",
    "\n",
    "      # Save cost J at each iteration\n",
    "      if i<100000:      # prevent resource exhaustion \n",
    "            J_history.append( compute_cost_logistic(X, y, w_fin, b_fin))\n",
    "\n",
    "        # Print cost every at intervals 10 times or as many iterations if < 10\n",
    "      if i% math.ceil(num_iters / 10) == 0:\n",
    "            print(f\"Iteration {i:4d}: Cost {J_history[-1]}   \")\n",
    "\n",
    "    return w_fin,b_fin \n",
    "        "
   ]
  },
  {
   "cell_type": "code",
   "execution_count": 8,
   "metadata": {},
   "outputs": [
    {
     "name": "stdout",
     "output_type": "stream",
     "text": [
      "Iteration    0: Cost 0.684610468560574   \n",
      "Iteration 1000: Cost 0.1590977666870457   \n",
      "Iteration 2000: Cost 0.08460064176930078   \n",
      "Iteration 3000: Cost 0.05705327279402531   \n",
      "Iteration 4000: Cost 0.04290759421682   \n",
      "Iteration 5000: Cost 0.03433847729884557   \n",
      "Iteration 6000: Cost 0.02860379802212006   \n",
      "Iteration 7000: Cost 0.02450156960879306   \n",
      "Iteration 8000: Cost 0.02142370332569295   \n",
      "Iteration 9000: Cost 0.019030137124109114   \n",
      "[5.28123029 5.07815608] -14.222409982019837\n"
     ]
    }
   ],
   "source": [
    "w_tmp = np.zeros_like(X_train[0])\n",
    "b_tmp = 0.\n",
    "alpha = 1e-1\n",
    "iters = 10000\n",
    "w_fin , b_fin = gradient_descent(X_train,y_train,w_tmp,b_tmp,alpha,iters) \n",
    "print(w_fin,b_fin)"
   ]
  },
  {
   "cell_type": "code",
   "execution_count": 9,
   "metadata": {},
   "outputs": [],
   "source": [
    "x_train = np.array([0., 1, 2, 3, 4, 5])\n",
    "y_train = np.array([0,  0, 0, 1, 1, 1])"
   ]
  },
  {
   "cell_type": "code",
   "execution_count": 10,
   "metadata": {},
   "outputs": [
    {
     "data": {
      "image/png": "[encoded data removed]",
      "text/plain": [
       "<Figure size 400x300 with 1 Axes>"
      ]
     },
     "metadata": {},
     "output_type": "display_data"
    }
   ],
   "source": [
    "fig,ax = plt.subplots(1,1,figsize=(4,3))\n",
    "pos = y_train == 1 \n",
    "neg = y_train == 0 \n",
    "ax.scatter(x_train[pos],y_train[pos],c='r',label = \"$y = 1$\",marker='x',)\n",
    "ax.scatter(x_train[neg],y_train[neg],marker='o',label = \"$y = 0$\",edgecolors=\"blue\",facecolors=\"none\",linewidths=3)\n",
    "# ax.axis([0,5,0,1])\n",
    "ax.set_ylim(-0.175,1.1)\n",
    "ax.set_ylabel('$x_1$', fontsize=12)\n",
    "ax.set_xlabel('$x_0$', fontsize=12)\n",
    "ax.legend()\n",
    "plt.show()"
   ]
  },
  {
   "cell_type": "code",
   "execution_count": 11,
   "metadata": {},
   "outputs": [
    {
     "ename": "NameError",
     "evalue": "name 'w' is not defined",
     "output_type": "error",
     "traceback": [
      "\u001b[0;31m---------------------------------------------------------------------------\u001b[0m",
      "\u001b[0;31mNameError\u001b[0m                                 Traceback (most recent call last)",
      "Cell \u001b[0;32mIn[11], line 3\u001b[0m\n\u001b[1;32m      1\u001b[0m w_range \u001b[39m=\u001b[39m np\u001b[39m.\u001b[39marray([\u001b[39m-\u001b[39m\u001b[39m1\u001b[39m, \u001b[39m7\u001b[39m])\n\u001b[1;32m      2\u001b[0m b_range \u001b[39m=\u001b[39m np\u001b[39m.\u001b[39marray([\u001b[39m1\u001b[39m, \u001b[39m-\u001b[39m\u001b[39m14\u001b[39m])\n\u001b[0;32m----> 3\u001b[0m cost \u001b[39m=\u001b[39m compute_cost_logistic(x_train,y_train,w)\n",
      "\u001b[0;31mNameError\u001b[0m: name 'w' is not defined"
     ]
    }
   ],
   "source": [
    "w_range = np.array([-1, 7])\n",
    "b_range = np.array([1, -14])\n",
    "cost = compute_cost_logistic(x_train,y_train,w)"
   ]
  }
 ],
 "metadata": {
  "kernelspec": {
   "display_name": "scikit_is_cool_venv",
   "language": "python",
   "name": "python3"
  },
  "language_info": {
   "codemirror_mode": {
    "name": "ipython",
    "version": 3
   },
   "file_extension": ".py",
   "mimetype": "text/x-python",
   "name": "python",
   "nbconvert_exporter": "python",
   "pygments_lexer": "ipython3",
   "version": "3.10.6"
  },
  "orig_nbformat": 4
 },
 "nbformat": 4,
 "nbformat_minor": 2
}
