{
 "cells": [
  {
   "attachments": {},
   "cell_type": "markdown",
   "metadata": {},
   "source": [
    "# Multiple Linear Regression \n",
    "Multiple linear regression is a statistical method that uses multiple independent variables to predict a single dependent variable. <br>\n",
    "The goal of multiple linear regression is to find a linear relationship between the dependent variable and the independent variables.\n",
    "\n",
    "The Model would be : \n",
    "$$\n",
    "        f_w,_b(x^{->}) = w^{->} . x^{->} + b\n",
    "$$\n",
    "<em>This above Notation is  </em> **Vector Notation**"
   ]
  },
  {
   "cell_type": "markdown",
   "metadata": {},
   "source": [
    "# 2 Problem Statement \n",
    "| Size (sqft) | Number of Bedrooms  | Number of floors | Age of  Home | Price (1000s dollars)  |   \n",
    "| ----------------| ------------------- |----------------- |--------------|-------------- |  \n",
    "| 2104            | 5                   | 1                | 45           | 460           |  \n",
    "| 1416            | 3                   | 2                | 40           | 232           |  \n",
    "| 852             | 2                   | 1                | 35           | 178           |  \n"
   ]
  },
  {
   "cell_type": "code",
   "execution_count": 1,
   "metadata": {},
   "outputs": [
    {
     "name": "stdout",
     "output_type": "stream",
     "text": [
      "3 4\n"
     ]
    }
   ],
   "source": [
    "# Train a model \n",
    "import numpy as np \n",
    "import matplotlib as mpl \n",
    "X_train = np.array([[2104, 5, 1, 45], \n",
    "                     [1416, 3, 2, 40], \n",
    "                     [852, 2, 1, 35]])\n",
    "y_train = np.array([460, 232, 178])\n",
    "m = X_train.shape[0]\n",
    "n = X_train.shape[1]\n",
    "print(m,n)"
   ]
  },
  {
   "cell_type": "code",
   "execution_count": 2,
   "metadata": {},
   "outputs": [
    {
     "name": "stdout",
     "output_type": "stream",
     "text": [
      "Value of b = 785.1811367994083 \n",
      "Value of w(vector) = \n",
      "[  0.39133535  18.75376741 -53.36032453 -26.42131618]\n",
      "w_init shape: (4,), b_init type: <class 'float'>\n"
     ]
    }
   ],
   "source": [
    "# Parameters \n",
    "\"\"\" \n",
    "w - Vector or np.array \n",
    "b - scalar quantity \n",
    "\"\"\" \n",
    "b_init  =  785.1811367994083 \n",
    "w_init = np.array([ 0.39133535, 18.75376741, -53.36032453, -26.42131618])\n",
    "print(f\"Value of b = {b_init} \\nValue of w(vector) = \\n{w_init}\")\n",
    "print(f\"w_init shape: {w_init.shape}, b_init type: {type(b_init)}\")"
   ]
  },
  {
   "cell_type": "code",
   "execution_count": 3,
   "metadata": {},
   "outputs": [],
   "source": [
    "# Single Prediction , Vector \n",
    "def predict(x, w, b): \n",
    "    \"\"\"\n",
    "    single predict using linear regression\n",
    "    Args:\n",
    "      x (ndarray): Shape (n,) example with multiple features\n",
    "      w (ndarray): Shape (n,) model parameters   \n",
    "      b (scalar):             model parameter \n",
    "      \n",
    "    Returns:\n",
    "      p (scalar):  prediction\n",
    "    \"\"\"\n",
    "    p = np.dot(x, w) + b     \n",
    "    return p    "
   ]
  },
  {
   "cell_type": "code",
   "execution_count": 4,
   "metadata": {},
   "outputs": [],
   "source": [
    "\n",
    "def compute_cost(X,y,w,b):\n",
    "    m = X.shape[0]\n",
    "    n = X.shape[1]\n",
    "\n",
    "    cost = 0.0\n",
    "    \n",
    "    for i in range(m):\n",
    "        f_w_b_i = np.dot(X[i],w) + b\n",
    "        cost += (f_w_b_i - y[i]) ** 2\n",
    "    return cost/(2*m) \n",
    "\n",
    "\n"
   ]
  },
  {
   "cell_type": "code",
   "execution_count": 5,
   "metadata": {},
   "outputs": [
    {
     "name": "stdout",
     "output_type": "stream",
     "text": [
      "Cost at optimal w : 1.5578904428966628e-12\n"
     ]
    }
   ],
   "source": [
    "cost = compute_cost(X_train, y_train, w_init, b_init)\n",
    "print(f'Cost at optimal w : {cost}')"
   ]
  },
  {
   "cell_type": "code",
   "execution_count": 6,
   "metadata": {},
   "outputs": [],
   "source": [
    "def compute_gradient(X,y,w,b):\n",
    "    m = X.shape[0]\n",
    "    n = X.shape[1]\n",
    "    dj_dw = np.zeros(n)\n",
    "    dj_db = 0.\n",
    "    for i in range(m):\n",
    "        err = (np.dot(X[i],w) + b) - y[i]\n",
    "        for j in range(n):\n",
    "            dj_dw[j] += err * X[i, j]\n",
    "        dj_db += err\n",
    "    dj_dw /= m\n",
    "    dj_db /= m \n",
    "    return dj_db,dj_dw"
   ]
  },
  {
   "cell_type": "code",
   "execution_count": 7,
   "metadata": {},
   "outputs": [
    {
     "name": "stdout",
     "output_type": "stream",
     "text": [
      "dj_db at initial w,b: -1.6739251501955248e-06\n",
      "dj_dw at initial w,b: \n",
      " [-2.72623577e-03 -6.27197263e-06 -2.21745578e-06 -6.92403391e-05]\n"
     ]
    }
   ],
   "source": [
    "#Compute and display gradient \n",
    "tmp_dj_db, tmp_dj_dw = compute_gradient(X_train, y_train, w_init, b_init)\n",
    "print(f'dj_db at initial w,b: {tmp_dj_db}')\n",
    "print(f'dj_dw at initial w,b: \\n {tmp_dj_dw}')"
   ]
  },
  {
   "cell_type": "code",
   "execution_count": 8,
   "metadata": {},
   "outputs": [],
   "source": [
    "import copy\n",
    "import math\n",
    "def gradient_descent(X, y, w_in, b_in,alpha, num_iters):\n",
    "    \"\"\"\n",
    "    Performs batch gradient descent to learn w and b. Updates w and b by taking \n",
    "    num_iters gradient steps with learning rate alpha\n",
    "    \n",
    "    Args:\n",
    "      X (ndarray (m,n))   : Data, m examples with n features\n",
    "      y (ndarray (m,))    : target values\n",
    "      w_in (ndarray (n,)) : initial model parameters  \n",
    "      b_in (scalar)       : initial model parameter\n",
    "      cost_function       : function to compute cost\n",
    "      gradient_function   : function to compute the gradient\n",
    "      alpha (float)       : Learning rate\n",
    "      num_iters (int)     : number of iterations to run gradient descent\n",
    "      \n",
    "    Returns:\n",
    "      w (ndarray (n,)) : Updated values of parameters \n",
    "      b (scalar)       : Updated value of parameter \n",
    "      \"\"\"\n",
    "    \n",
    "    # number of training examples\n",
    "    m = len(X)\n",
    "    \n",
    "   # An array to store cost J and w's at each iteration primarily for graphing later\n",
    "    J_history = []\n",
    "    w = copy.deepcopy(w_in)  #avoid modifying global w within function\n",
    "    b = b_in\n",
    "    \n",
    "    for i in range(num_iters):\n",
    "\n",
    "        # Calculate the gradient and update the parameters\n",
    "        dj_db,dj_dw = compute_gradient(X, y, w, b)   ##None\n",
    "\n",
    "        # Update Parameters using w, b, alpha and gradient\n",
    "        w = w - alpha * dj_dw               ##None\n",
    "        b = b - alpha * dj_db               ##None\n",
    "      \n",
    "        # Save cost J at each iteration\n",
    "        if i<100000:      # prevent resource exhaustion \n",
    "            J_history.append( compute_cost(X, y, w, b))\n",
    "\n",
    "        # Print cost every at intervals 10 times or as many iterations if < 10\n",
    "        if i % math.ceil(num_iters/10) == 0:\n",
    "            print(f\"Iteration {i:4}: Cost {J_history[-1]:0.2e} w: {w}, b:{b} \")\n",
    "                  # f\"w: {w: 0.3e}, b:{b: 0.5e}\")\n",
    "        \n",
    "    return w, b, J_history #return final w,b and J history for graphing\n",
    "\n",
    "        \n",
    "\n",
    "    "
   ]
  },
  {
   "cell_type": "code",
   "execution_count": 9,
   "metadata": {},
   "outputs": [
    {
     "name": "stdout",
     "output_type": "stream",
     "text": [
      "Iteration    0: Cost 5.88e-14 w: [  0.39133535  18.75376741 -53.36032453 -26.42131618], b:785.181136799409 \n"
     ]
    },
    {
     "name": "stdout",
     "output_type": "stream",
     "text": [
      "Iteration 10000: Cost 1.40e-16 w: [  0.39133535  18.75376741 -53.36032453 -26.42131618], b:785.1811367994089 \n",
      "Iteration 20000: Cost 5.78e-17 w: [  0.39133535  18.75376741 -53.36032453 -26.42131618], b:785.1811367994089 \n",
      "Iteration 30000: Cost 2.40e-17 w: [  0.39133535  18.75376741 -53.36032453 -26.42131618], b:785.1811367994089 \n",
      "Iteration 40000: Cost 1.00e-17 w: [  0.39133535  18.75376741 -53.36032453 -26.42131618], b:785.1811367994089 \n",
      "Iteration 50000: Cost 4.27e-18 w: [  0.39133535  18.75376741 -53.36032453 -26.42131618], b:785.1811367994089 \n",
      "Iteration 60000: Cost 1.87e-18 w: [  0.39133535  18.75376741 -53.36032453 -26.42131618], b:785.1811367994089 \n",
      "Iteration 70000: Cost 8.76e-19 w: [  0.39133535  18.75376741 -53.36032453 -26.42131618], b:785.1811367994089 \n",
      "Iteration 80000: Cost 5.34e-19 w: [  0.39133535  18.75376741 -53.36032453 -26.42131618], b:785.1811367994089 \n",
      "Iteration 90000: Cost 3.19e-19 w: [  0.39133535  18.75376741 -53.36032453 -26.42131618], b:785.1811367994089 \n"
     ]
    }
   ],
   "source": [
    "iters = 100000\n",
    "alpha = 5.0e-7\n",
    "# print(f\"Iteration   Cost          w0       w1       w2       w3       b       djdw0    djdw1    djdw2    djdw3    djdb  \")\n",
    "# print(f\"---------|------------|--------|--------|--------|--------|--------|--------|--------|--------|--------|--------|\")\n",
    "\n",
    "w_fin,b_fin,J_hist = gradient_descent(X_train,y_train,w_init,b_init,alpha,iters)\n",
    "# print(w_fin,b_fin,J_hist)"
   ]
  },
  {
   "cell_type": "code",
   "execution_count": 10,
   "metadata": {},
   "outputs": [
    {
     "name": "stdout",
     "output_type": "stream",
     "text": [
      "Iteration    0: Cost 2.53e+03 w: [2.41334667e-01 5.58666667e-04 1.83666667e-04 6.03500000e-03], b:0.000145 \n",
      "Iteration 10000: Cost 6.25e+02 w: [ 0.21700016  0.03241102 -0.10756894 -0.58002358], b:-0.01907920362447858 \n",
      "Iteration 20000: Cost 5.94e+02 w: [ 0.22647014  0.06282451 -0.20441317 -0.95360462], b:-0.03083741402406834 \n",
      "Iteration 30000: Cost 5.81e+02 w: [ 0.23250291  0.09224609 -0.29425217 -1.19161742], b:-0.037825654441786094 \n",
      "Iteration 40000: Cost 5.75e+02 w: [ 0.23633235  0.12102008 -0.3795677  -1.34272807], b:-0.04175683097206683 \n",
      "Iteration 50000: Cost 5.71e+02 w: [ 0.23874942  0.14936719 -0.46195071 -1.43813321], b:-0.043728974303773836 \n",
      "Iteration 60000: Cost 5.69e+02 w: [ 0.24026117  0.17742894 -0.54242108 -1.49783092], b:-0.0444459589375747 \n",
      "Iteration 70000: Cost 5.67e+02 w: [ 0.24119261  0.20529605 -0.62163265 -1.5346407 ], b:-0.04435899176198979 \n",
      "Iteration 80000: Cost 5.66e+02 w: [ 0.24175211  0.2330267  -0.70000456 -1.55678024], b:-0.04375731107539368 \n",
      "Iteration 90000: Cost 5.65e+02 w: [ 0.24207322  0.26065819 -0.77780556 -1.56951738], b:-0.0428263277647693 \n"
     ]
    }
   ],
   "source": [
    "# initialize parameters\n",
    "initial_w = np.zeros_like(w_init)\n",
    "initial_b = 0.\n",
    "# some gradient descent settings\n",
    "iterations = 100000\n",
    "alpha = 5.0e-7\n",
    "# run gradient descent \n",
    "w_final, b_final, J_hist = gradient_descent(X_train,y_train,initial_w,initial_b,alpha,iterations)\n",
    "# print(f\"b,w found by gradient descent: {b_final:0.2f},{w_final} \")\n",
    "# m,_ = X_train.shape\n",
    "# for i in range(m):\n",
    "#     print(f\"prediction: {np.dot(X_train[i], w_final) + b_final:0.2f}, target value: {y_train[i]}\")"
   ]
  },
  {
   "cell_type": "code",
   "execution_count": 11,
   "metadata": {},
   "outputs": [],
   "source": [
    "predict_sample = np.zeros(m)\n",
    "for i in range(m):\n",
    "    predict_sample[i] = predict(X_train[i],w_fin,b_fin)\n"
   ]
  }
 ],
 "metadata": {
  "kernelspec": {
   "display_name": "Python 3",
   "language": "python",
   "name": "python3"
  },
  "language_info": {
   "codemirror_mode": {
    "name": "ipython",
    "version": 3
   },
   "file_extension": ".py",
   "mimetype": "text/x-python",
   "name": "python",
   "nbconvert_exporter": "python",
   "pygments_lexer": "ipython3",
   "version": "3.10.6"
  },
  "orig_nbformat": 4
 },
 "nbformat": 4,
 "nbformat_minor": 2
}
