{
 "cells": [
  {
   "attachments": {},
   "cell_type": "markdown",
   "metadata": {},
   "source": [
    "``` Linear Function : ``` \n",
    "\n",
    "A <em> Linear function</em> is used to fit and predict a model from a given set of a datapoints.<br>\n",
    "The Linear function would be : $$ f(x) = wx + b $$\n",
    "\n",
    "<em>where</em> <br>\n",
    "$x$ : Input<br>\n",
    "$w$ : Weights<br>\n",
    "$b$ : bias<br>\n",
    "\n"
   ]
  },
  {
   "cell_type": "code",
   "execution_count": 1,
   "metadata": {},
   "outputs": [],
   "source": [
    "#Linear Regression model : f(xi) = wxi + b \n",
    "def linearFunction(weight,x_point,bias):\n",
    "    ''' \n",
    "    args : Takes in the weight,xvalue,and bias of a dataset\n",
    "    return : returns the model f(xi) = wxi + b\n",
    "    '''\n",
    "    return weight*x_point + bias\n",
    "\n",
    "def compute_output(x_input,weight,bias,y_output):\n",
    "    ''' \n",
    "    args : Takes in the x_input,w,bias,y_output\n",
    "    return : returns the f(x) after computing for all x values\n",
    "    '''\n",
    "    for i in x_input:\n",
    "         f_x = linearFunction(weight,i,bias)\n",
    "         y_output.append(f_x)\n",
    "    return y_output"
   ]
  },
  {
   "cell_type": "code",
   "execution_count": 2,
   "metadata": {},
   "outputs": [
    {
     "name": "stdout",
     "output_type": "stream",
     "text": [
      "[1, 2, 3]\n",
      "[1, 2, 3]\n"
     ]
    }
   ],
   "source": [
    "\n",
    "# weights and bias are are passed over the functions in the following cells\n",
    "w1 = 1\n",
    "bias = 0\n",
    "\n",
    "x_input = [i for i in range(1,4)]\n",
    "y_output = []\n",
    "\n",
    "y_output = compute_output(x_input,w1,bias,y_output)\n",
    "print(x_input,y_output,sep=\"\\n\")"
   ]
  },
  {
   "cell_type": "code",
   "execution_count": 3,
   "metadata": {},
   "outputs": [
    {
     "name": "stdout",
     "output_type": "stream",
     "text": [
      "[1, 2, 3]\n",
      "[0.5, 1.0, 1.5]\n"
     ]
    }
   ],
   "source": [
    "w2 = 0.5\n",
    "\n",
    "y2_output = []\n",
    "y2_output = compute_output(x_input,w2,bias,y2_output)\n",
    "\n",
    "print(x_input,y2_output,sep=\"\\n\")"
   ]
  },
  {
   "attachments": {},
   "cell_type": "markdown",
   "metadata": {},
   "source": [
    "```Cost Function Computation:```\n",
    "\n",
    "For this Linear Model $f(x_i) = wx_i + b$,\n",
    "The <b>Cost Function</b> is calculated as $$ J(w,b) = (1/2m) \\Sigma_{i=1}^m [f(x_i) - y]^2$$ <br>\n",
    "This is further expanded into : \n",
    "$$ J(w,b) = (1/2m) \\Sigma_{i=1}^m [(wx_i + b) - y]^2$$\n",
    "\n",
    " \n",
    "<em>Notations</em>: <br>\n",
    "$x_i$ : Inputs<br>\n",
    "$y$ : Target Output<br>\n",
    "$w$ : Weights<br>\n",
    "$b$ : bias<br>\n",
    "$m$ : size of training data<br>\n",
    "\n",
    "\n"
   ]
  },
  {
   "cell_type": "code",
   "execution_count": 4,
   "metadata": {},
   "outputs": [],
   "source": [
    "\n",
    "def compute_cost(y_output,target_output):\n",
    "    m = len(y_output)\n",
    "    cost = 0\n",
    "    \n",
    "    for i in range(len(y_output)):\n",
    "        cost +=  (y_output[i] - target_output[i]) ** 2\n",
    "    \n",
    "    return (1/(2 * m)) * cost "
   ]
  },
  {
   "cell_type": "code",
   "execution_count": 5,
   "metadata": {},
   "outputs": [
    {
     "name": "stdout",
     "output_type": "stream",
     "text": [
      "[2.5, 4.0, 5.5]\n",
      "[0.5833333333333333, 0.0, 2.083333333333333]\n"
     ]
    }
   ],
   "source": [
    "#compute Cost \n",
    "\n",
    "costoutput = []\n",
    "costoutput.append(compute_cost(y2_output,y_output))\n",
    "# print(compute_cost(y2_output,y_output))\n",
    "costoutput.append(compute_cost(y_output,y_output))\n",
    "\n",
    "w3 = 1.5\n",
    "b2 = 1 \n",
    "\n",
    "y3_output = []\n",
    "y3_output = compute_output(x_input,w3,b2,y3_output)\n",
    "\n",
    "print(y3_output)\n",
    "\n",
    "costoutput.append(compute_cost(y3_output,y_output))\n",
    "\n",
    "print(costoutput)"
   ]
  },
  {
   "cell_type": "code",
   "execution_count": 6,
   "metadata": {},
   "outputs": [
    {
     "data": {
      "image/png": "[encoded data removed]",
      "text/plain": [
       "<Figure size 640x480 with 1 Axes>"
      ]
     },
     "metadata": {},
     "output_type": "display_data"
    }
   ],
   "source": [
    "#Here, the datapoints are plotted from the computed x_input and y_output arrays\n",
    "#Matplotlib is used to plot and visualise the model \n",
    "import matplotlib.pyplot as plt\n",
    "\n",
    "xpoints = x_input\n",
    "ypoints = y_output\n",
    "\n",
    "y2points = y2_output\n",
    "plt.plot(xpoints,ypoints,'x:r')\n",
    "plt.plot(xpoints,y2points,'*-b')\n",
    "plt.plot(xpoints,costoutput)\n",
    "plt.show()\n"
   ]
  },
  {
   "attachments": {},
   "cell_type": "markdown",
   "metadata": {},
   "source": [
    "### Gradient Descent :\n",
    "\n",
    "Gradient Descent Algorithm is a cost minimizing algorithm which reduces the value of weight and bias by succesive iterations. <br>\n",
    "The Gradient Descent Algorithm would be : <br>\n",
    "$$ w = w - {\\alpha} ({\\partial / \\partial w})[J(_w,_b)]  \\\\\n",
    "b = b - {\\alpha} ({\\partial / \\partial b})[J(_w,_b)]\n",
    "$$\n",
    "\n",
    "After computing the partial derivatives, the Values would be: <br>\n",
    "$$\n",
    "          w = w - {\\alpha} [(1/m) \\Sigma_{i=1}^m (wx_i + b) - y](x_i) \\\\\n",
    "          b = b - {\\alpha} [(1/m) \\Sigma_{i=1}^m (wx_i + b) - y]\n",
    "$$\n"
   ]
  },
  {
   "cell_type": "code",
   "execution_count": 7,
   "metadata": {},
   "outputs": [],
   "source": [
    "# Load our data Set\n",
    "import numpy as np\n",
    "import math\n",
    "x_train = np.array([1,2],dtype=float) #features \n",
    "y_train = np.array([300,500],dtype=float) # target value\n"
   ]
  },
  {
   "cell_type": "code",
   "execution_count": 8,
   "metadata": {},
   "outputs": [],
   "source": [
    "#Linear Regression model : f(xi) = wxi + b \n",
    "def linearFunction(weight,x_point,bias):\n",
    "    ''' \n",
    "    args : Takes in the weight,xvalue,and bias of a dataset\n",
    "    return : returns the model f(xi) = wxi + b\n",
    "    '''\n",
    "    return weight*x_point + bias\n",
    "\n",
    "def compute_output(x_input,weight,bias):\n",
    "    ''' \n",
    "    args : Takes in the x_input,w,bias,y_output\n",
    "    return : returns the f(x) after computing for all x values\n",
    "    '''\n",
    "    y_output = []\n",
    "    for i in x_input:\n",
    "         f_x = linearFunction(weight,i,bias)\n",
    "         y_output.append(f_x)\n",
    "    return y_output"
   ]
  },
  {
   "cell_type": "code",
   "execution_count": 9,
   "metadata": {},
   "outputs": [],
   "source": [
    "def costFunction(x, y, w, b):\n",
    "   \n",
    "    m = x.shape[0] \n",
    "    cost = 0\n",
    "    \n",
    "    for i in range(m):\n",
    "        f_wb = w * x[i] + b\n",
    "        cost = cost + (f_wb - y[i])**2\n",
    "    total_cost = 1 / (2 * m) * cost\n",
    "\n",
    "    return total_cost"
   ]
  },
  {
   "cell_type": "code",
   "execution_count": 10,
   "metadata": {},
   "outputs": [
    {
     "name": "stdout",
     "output_type": "stream",
     "text": [
      "[1.0, 2.0]\n",
      "84351.25\n"
     ]
    }
   ],
   "source": [
    "y_output = np.array([])\n",
    "y_output = compute_output(x_train,1,0)\n",
    "print(y_output)\n",
    "cost_output = compute_cost(y_output,y_train)\n",
    "print(cost_output)"
   ]
  },
  {
   "cell_type": "code",
   "execution_count": 11,
   "metadata": {},
   "outputs": [],
   "source": [
    "#compute Gradient \n",
    "def compute_gradient(x_train,y_train,w,b):\n",
    "    \"\"\"\n",
    "    Computes the gradient for linear regression \n",
    "    Args:\n",
    "      x_train(ndarray (m,)): Data, m examples \n",
    "      y_train(ndarray (m,)): target values\n",
    "      w,b (scalar)    : model parameters  \n",
    "    Returns\n",
    "      dj_dw (scalar): The gradient of the cost w.r.t. the parameters w\n",
    "      dj_db (scalar): The gradient of the cost w.r.t. the parameter b     \n",
    "    \"\"\"\n",
    "    dj_dw = 0 \n",
    "    dj_db = 0\n",
    "    m = x_train.shape[0]\n",
    "\n",
    "    for i in range(m):\n",
    "        f_wb = linearFunction(w,x_train[i],b)\n",
    "        dj_dw_i = (f_wb - y_train[i]) * x_train[i]\n",
    "        dj_db_i = (f_wb - y_train[i])\n",
    "        dj_dw += dj_dw_i\n",
    "        dj_db += dj_db_i\n",
    "    dj_dw /= m\n",
    "    dj_db /= m \n",
    "\n",
    "    return dj_dw,dj_db\n",
    "\n",
    "\n",
    "        \n"
   ]
  },
  {
   "cell_type": "code",
   "execution_count": 12,
   "metadata": {},
   "outputs": [],
   "source": [
    "def gradient_descent(x_train,y_train,w_in,b_in,alpha,num_iters,compute_cost,compute_gradient):\n",
    "      \"\"\"\n",
    "      Performs gradient descent to fit w,b. Updates w,b by taking \n",
    "      num_iters gradient steps with learning rate alpha\n",
    "    \n",
    "      Args:\n",
    "      x_train (ndarray (m,))  : Data, m examples \n",
    "      y_train (ndarray (m,))  : target values\n",
    "      w_in,b_in (scalar): initial values of model parameters  \n",
    "      alpha (float):     Learning rate\n",
    "      num_iters (int):   number of iterations to run gradient descent\n",
    "      cost_function:     function to call to produce cost\n",
    "      gradient_function: function to call to produce gradient\n",
    "      \n",
    "        Returns:\n",
    "      w (scalar): Updated value of parameter after running gradient descent\n",
    "      b (scalar): Updated value of parameter after running gradient descent\n",
    "      J_history (List): History of cost values\n",
    "      p_history (list): History of parameters [w,b] \n",
    "      \"\"\"\n",
    "\n",
    "      J_history = []\n",
    "      p_history = []\n",
    "\n",
    "      b = b_in\n",
    "      w = w_in\n",
    "\n",
    "      for i in range(num_iters):\n",
    "        #Calculate the gradient and update the params using gradient function\n",
    "        dj_dw,dj_db = compute_gradient(x_train,y_train,w,b)\n",
    "\n",
    "        b = b - alpha * dj_db\n",
    "        w = w - alpha * dj_dw\n",
    "\n",
    "        # Save cost J at each iteration\n",
    "        if i<100000:      # prevent resource exhaustion\n",
    "            J_history.append(costFunction(x_train, y_train, w , b))\n",
    "            p_history.append([w,b])\n",
    "        if i% math.ceil(num_iters/10) == 0:\n",
    "            print(f\"Iteration {i:4}: Cost {J_history[-1]:0.2e} \",\n",
    "                  f\"dj_dw: {dj_dw: 0.3e}, dj_db: {dj_db: 0.3e}  \",\n",
    "                  f\"w: {w: 0.3e}, b:{b: 0.5e}\")\n",
    "      \n",
    "      return w,b,J_history,p_history\n",
    "\n"
   ]
  },
  {
   "cell_type": "code",
   "execution_count": 13,
   "metadata": {},
   "outputs": [
    {
     "name": "stdout",
     "output_type": "stream",
     "text": [
      "Iteration    0: Cost 7.93e+04  dj_dw: -6.500e+02, dj_db: -4.000e+02   w:  6.500e+00, b: 4.00000e+00\n",
      "Iteration 100000: Cost 1.26e-23  dj_dw: -1.421e-12, dj_db:  7.105e-13   w:  2.000e+02, b: 1.00000e+02\n",
      "Iteration 200000: Cost 1.26e-23  dj_dw: -1.421e-12, dj_db:  7.105e-13   w:  2.000e+02, b: 1.00000e+02\n",
      "Iteration 300000: Cost 1.26e-23  dj_dw: -1.421e-12, dj_db:  7.105e-13   w:  2.000e+02, b: 1.00000e+02\n",
      "Iteration 400000: Cost 1.26e-23  dj_dw: -1.421e-12, dj_db:  7.105e-13   w:  2.000e+02, b: 1.00000e+02\n",
      "Iteration 500000: Cost 1.26e-23  dj_dw: -1.421e-12, dj_db:  7.105e-13   w:  2.000e+02, b: 1.00000e+02\n",
      "Iteration 600000: Cost 1.26e-23  dj_dw: -1.421e-12, dj_db:  7.105e-13   w:  2.000e+02, b: 1.00000e+02\n",
      "Iteration 700000: Cost 1.26e-23  dj_dw: -1.421e-12, dj_db:  7.105e-13   w:  2.000e+02, b: 1.00000e+02\n",
      "Iteration 800000: Cost 1.26e-23  dj_dw: -1.421e-12, dj_db:  7.105e-13   w:  2.000e+02, b: 1.00000e+02\n",
      "Iteration 900000: Cost 1.26e-23  dj_dw: -1.421e-12, dj_db:  7.105e-13   w:  2.000e+02, b: 1.00000e+02\n",
      "The final weight : 200.0000\n",
      "The final bias : 100.0000\n"
     ]
    }
   ],
   "source": [
    "w_in = 0\n",
    "b_in = 0\n",
    "tmp_alpha = 1.0e-2\n",
    "iterations = 1000000\n",
    "# print(compute_gradient(x_train,y_train,w_in,b_in))\n",
    "w_fin,b_fin,J_history,p_history = gradient_descent(x_train,y_train,w_in,b_in,tmp_alpha,iterations,compute_cost,compute_gradient)\n",
    "print(f\"The final weight : {w_fin:8.4f}\")\n",
    "print(f\"The final bias : {b_fin:8.4f}\")\n"
   ]
  },
  {
   "cell_type": "code",
   "execution_count": 14,
   "metadata": {},
   "outputs": [
    {
     "name": "stdout",
     "output_type": "stream",
     "text": [
      "100000000000.0000\n",
      "100000000000.0000\n"
     ]
    }
   ],
   "source": [
    "x = 100000000000.000000\n",
    "print(f\"{x:5.4f}\")\n",
    "x = 100000000000.000000\n",
    "print(format(x, \"5.4f\"))\n"
   ]
  }
 ],
 "metadata": {
  "kernelspec": {
   "display_name": "Python 3",
   "language": "python",
   "name": "python3"
  },
  "language_info": {
   "codemirror_mode": {
    "name": "ipython",
    "version": 3
   },
   "file_extension": ".py",
   "mimetype": "text/x-python",
   "name": "python",
   "nbconvert_exporter": "python",
   "pygments_lexer": "ipython3",
   "version": "3.10.6"
  },
  "orig_nbformat": 4
 },
 "nbformat": 4,
 "nbformat_minor": 2
}
