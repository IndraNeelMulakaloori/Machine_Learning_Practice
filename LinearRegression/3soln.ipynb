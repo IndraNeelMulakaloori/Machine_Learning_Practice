{
 "cells": [
  {
   "cell_type": "code",
   "execution_count": 1,
   "metadata": {},
   "outputs": [],
   "source": [
    "import numpy as np"
   ]
  },
  {
   "cell_type": "code",
   "execution_count": 2,
   "metadata": {},
   "outputs": [
    {
     "name": "stdout",
     "output_type": "stream",
     "text": [
      "Matrix A:\n",
      "[[ 4. -3.  1.]\n",
      " [ 2.  1.  3.]\n",
      " [-1.  2. -5.]]\n",
      "\n",
      "Array b:\n",
      "[-10.   0.  17.]\n"
     ]
    }
   ],
   "source": [
    "A = np.array([\n",
    "        [4, -3, 1],\n",
    "        [2, 1, 3],\n",
    "        [-1, 2, -5]\n",
    "    ], dtype=np.dtype(float))\n",
    "\n",
    "b = np.array([-10, 0, 17], dtype=np.dtype(float))\n",
    "\n",
    "print(\"Matrix A:\")\n",
    "print(A)\n",
    "print(\"\\nArray b:\")\n",
    "print(b)"
   ]
  },
  {
   "cell_type": "code",
   "execution_count": 3,
   "metadata": {},
   "outputs": [
    {
     "name": "stdout",
     "output_type": "stream",
     "text": [
      "[[  4.  -3.   1. -10.]\n",
      " [  2.   1.   3.   0.]\n",
      " [ -1.   2.  -5.  17.]]\n"
     ]
    }
   ],
   "source": [
    "A_system = np.hstack((A, b.reshape((3, 1))))\n",
    "print(A_system)"
   ]
  },
  {
   "cell_type": "code",
   "execution_count": 4,
   "metadata": {},
   "outputs": [
    {
     "name": "stdout",
     "output_type": "stream",
     "text": [
      "Original Matrix : \n",
      " [[  4.  -3.   1. -10.]\n",
      " [  2.   1.   3.   0.]\n",
      " [ -1.   2.  -5.  17.]]\n",
      "After Multiplying row 2 with 2: \n",
      " [[  4.  -3.   1. -10.]\n",
      " [  4.   2.   6.   0.]\n",
      " [ -1.   2.  -5.  17.]]\n"
     ]
    }
   ],
   "source": [
    "# exchange row_num of the matrix M with its multiple by row_num_multiple\n",
    "# Note: for simplicity, you can drop check if  row_num_multiple has non-zero value, which makes the operation valid\n",
    "def multiplyRows(Matrix , row_num , multiple):\n",
    "    if multiple == 0:\n",
    "        return \"Not Valid. Enter a non-zero value\"\n",
    "    M_new = Matrix.copy()\n",
    "    M_new[row_num] = multiple * M_new[row_num]\n",
    "    return M_new\n",
    "print(f\"Original Matrix : \\n {A_system}\")\n",
    "print(f\"After Multiplying row 2 with 2: \\n {multiplyRows(A_system,1,2)}\")"
   ]
  },
  {
   "cell_type": "code",
   "execution_count": 5,
   "metadata": {},
   "outputs": [
    {
     "name": "stdout",
     "output_type": "stream",
     "text": [
      "Original matrix:\n",
      "[[  4.  -3.   1. -10.]\n",
      " [  2.   1.   3.   0.]\n",
      " [ -1.   2.  -5.  17.]]\n",
      "\n",
      "Matrix after exchange of the third row with the sum of itself and second row multiplied by 1/2:\n",
      "[[  4.   -3.    1.  -10. ]\n",
      " [  2.    1.    3.    0. ]\n",
      " [  0.    2.5  -3.5  17. ]]\n"
     ]
    }
   ],
   "source": [
    "# multiply row_num_1 by row_num_1_multiple and add it to the row_num_2, \n",
    "# exchanging row_num_2 of the matrix M in the result\n",
    "def addRows(M, row_num_1, row_num_2, row_num_1_multiple):\n",
    "    M_new = M.copy()\n",
    "    M_new[row_num_2] = row_num_1_multiple * M_new[row_num_1] + M_new[row_num_2]\n",
    "    # M_new[[row_num_2]] = row_num_1_multiple * M_new[[row_num_1]] + M_new[[row_num_2]]\n",
    "    return M_new\n",
    "\n",
    "print(\"Original matrix:\")\n",
    "print(A_system)\n",
    "print(\"\\nMatrix after exchange of the third row with the sum of itself and second row multiplied by 1/2:\")\n",
    "print(addRows(A_system,1,2,1/2))"
   ]
  },
  {
   "cell_type": "code",
   "execution_count": 6,
   "metadata": {},
   "outputs": [
    {
     "name": "stdout",
     "output_type": "stream",
     "text": [
      "[[  4.  -3.   1. -10.]\n",
      " [  2.   1.   3.   0.]\n",
      " [ -1.   2.  -5.  17.]]\n",
      "[[  4.  -3.   1. -10.]\n",
      " [ -1.   2.  -5.  17.]\n",
      " [  2.   1.   3.   0.]]\n"
     ]
    }
   ],
   "source": [
    "# exchange row_num_1 and row_num_2 of the matrix M\n",
    "def swapRows(Matrix,row_num_1,row_num_2):\n",
    "    M_new = Matrix.copy()\n",
    "    M_new[[row_num_2,row_num_1]] = M_new[[row_num_1,row_num_2]]\n",
    "    return M_new\n",
    "\n",
    "print(A_system)\n",
    "print(swapRows(A_system,1,2))"
   ]
  },
  {
   "cell_type": "code",
   "execution_count": null,
   "metadata": {},
   "outputs": [],
   "source": []
  },
  {
   "cell_type": "code",
   "execution_count": null,
   "metadata": {},
   "outputs": [],
   "source": []
  },
  {
   "cell_type": "code",
   "execution_count": null,
   "metadata": {},
   "outputs": [],
   "source": []
  }
 ],
 "metadata": {
  "kernelspec": {
   "display_name": "Python 3",
   "language": "python",
   "name": "python3"
  },
  "language_info": {
   "codemirror_mode": {
    "name": "ipython",
    "version": 3
   },
   "file_extension": ".py",
   "mimetype": "text/x-python",
   "name": "python",
   "nbconvert_exporter": "python",
   "pygments_lexer": "ipython3",
   "version": "3.10.6"
  },
  "orig_nbformat": 4
 },
 "nbformat": 4,
 "nbformat_minor": 2
}
