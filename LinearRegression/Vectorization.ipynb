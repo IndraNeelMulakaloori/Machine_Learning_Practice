{
 "cells": [
  {
   "attachments": {},
   "cell_type": "markdown",
   "metadata": {},
   "source": [
    "# Vectorization \n",
    "<em> Vectorization </em> is a technique in Python that allows you to perform operations on NumPy arrays without using loops. This can make your code much faster and more efficient.\n",
    "\n",
    "To vectorize an operation, you use the ```numpy.vectorize()```. This function takes a Python function as input and returns a vectorized version of that function. The vectorized function can then be applied to a NumPy array, and the operation will be performed on each element of the array."
   ]
  },
  {
   "cell_type": "markdown",
   "metadata": {},
   "source": [
    "### Computing Linear model"
   ]
  },
  {
   "cell_type": "code",
   "execution_count": 1,
   "metadata": {},
   "outputs": [],
   "source": [
    "import numpy as np\n",
    "#Preparing Dataset \n",
    "w = np.array([1.0,2.5,-3.3])\n",
    "b = 4 \n",
    "x = np.array([10,20,30])"
   ]
  },
  {
   "cell_type": "code",
   "execution_count": 2,
   "metadata": {},
   "outputs": [],
   "source": [
    "#Without Vectorization\n",
    "def linearFunction(weight,x_point,bias):\n",
    "    ''' \n",
    "    args : Takes in the weight,xvalue,and bias of a dataset\n",
    "    return : returns the model f(xi) = wxi + b\n",
    "    '''\n",
    "    return weight*x_point + bias\n",
    "\n",
    "def compute_output(x_input,weight,bias):\n",
    "    ''' \n",
    "    args : Takes in the x_input,w,bias,y_output\n",
    "    return : returns the f(x) after computing for all x values\n",
    "    '''\n",
    "    y_output = []\n",
    "    m = x_input.shape[0]\n",
    "    f_x = 0\n",
    "    for i in range(m):\n",
    "        f_x += weight[i] * x_input[i]\n",
    "         \n",
    "    return f_x + b"
   ]
  },
  {
   "cell_type": "code",
   "execution_count": 3,
   "metadata": {},
   "outputs": [
    {
     "name": "stdout",
     "output_type": "stream",
     "text": [
      "-35.0\n"
     ]
    }
   ],
   "source": [
    "print(compute_output(x,w,b))"
   ]
  },
  {
   "cell_type": "code",
   "execution_count": 4,
   "metadata": {},
   "outputs": [
    {
     "data": {
      "text/plain": [
       "-35.0"
      ]
     },
     "execution_count": 4,
     "metadata": {},
     "output_type": "execute_result"
    }
   ],
   "source": [
    "#With Vectorization\n",
    "f_x = np.dot(x,w) + b \n",
    "f_x"
   ]
  },
  {
   "attachments": {},
   "cell_type": "markdown",
   "metadata": {},
   "source": [
    "### Computing Gradient Descent"
   ]
  },
  {
   "cell_type": "code",
   "execution_count": 5,
   "metadata": {},
   "outputs": [],
   "source": [
    "# Preparing DataSet\n",
    "\n",
    "w = np.array([0.5,1.3,3.4])\n",
    "d = np.array([0.3,0.2,0.4])\n",
    "alpha = 0.1\n"
   ]
  },
  {
   "cell_type": "code",
   "execution_count": 6,
   "metadata": {},
   "outputs": [
    {
     "name": "stdout",
     "output_type": "stream",
     "text": [
      "[0.47, 1.28, 3.36]\n"
     ]
    }
   ],
   "source": [
    "# Without Vectorization\n",
    "w_new = []\n",
    "for i in range(len(w)):\n",
    "    w_new.append(w[i] - (alpha * d[i]))\n",
    "\n",
    "print(w_new)"
   ]
  },
  {
   "cell_type": "code",
   "execution_count": 7,
   "metadata": {},
   "outputs": [
    {
     "data": {
      "text/plain": [
       "array([0.47, 1.28, 3.36])"
      ]
     },
     "execution_count": 7,
     "metadata": {},
     "output_type": "execute_result"
    }
   ],
   "source": [
    "#With Vectorization \n",
    "w_new = w - (alpha * d)\n",
    "w_new"
   ]
  },
  {
   "cell_type": "code",
   "execution_count": 8,
   "metadata": {},
   "outputs": [
    {
     "name": "stdout",
     "output_type": "stream",
     "text": [
      "6\n"
     ]
    }
   ],
   "source": [
    "import numpy as np\n",
    "\n",
    "# Set the seed to 1.\n",
    "np.random.seed(1)\n",
    "\n",
    "# Generate a random number.\n",
    "random_number = np.random.randint(1, 10)\n",
    "\n",
    "print(random_number)\n"
   ]
  },
  {
   "cell_type": "code",
   "execution_count": 9,
   "metadata": {},
   "outputs": [
    {
     "name": "stdout",
     "output_type": "stream",
     "text": [
      "[4.17022005e-01 7.20324493e-01 1.14374817e-04 ... 1.62642575e-01\n",
      " 8.55441337e-01 6.51160047e-01]\n",
      "[0.49884527 0.5194437  0.9480511  ... 0.99416697 0.61599986 0.41453835]\n",
      "np.dot(a, b) =  2501072.5817\n",
      "Vectorized version duration: 29.4201 ms \n",
      "my_dot(a, b) =  2501072.5817\n",
      "loop version duration: 2596.9367 ms \n"
     ]
    }
   ],
   "source": [
    "def my_dot(a, b): \n",
    "    \"\"\"\n",
    "   Compute the dot product of two vectors\n",
    " \n",
    "    Args:\n",
    "      a (ndarray (n,)):  input vector \n",
    "      b (ndarray (n,)):  input vector with same dimension as a\n",
    "    \n",
    "    Returns:\n",
    "      x (scalar): \n",
    "    \"\"\"\n",
    "    x=0\n",
    "    for i in range(a.shape[0]):\n",
    "        x = x + a[i] * b[i]\n",
    "    return x\n",
    "import time\n",
    "np.random.seed(1)\n",
    "a = np.random.rand(10000000)  # very large arrays\n",
    "b = np.random.rand(10000000)\n",
    "\n",
    "print(a,b,sep =\"\\n\")\n",
    "\n",
    "tic = time.time()  # capture start time\n",
    "c = np.dot(a, b)\n",
    "toc = time.time()  # capture end time\n",
    "\n",
    "print(f\"np.dot(a, b) =  {c:.4f}\")\n",
    "print(f\"Vectorized version duration: {1000*(toc-tic):.4f} ms \")\n",
    "\n",
    "tic = time.time()  # capture start time\n",
    "c = my_dot(a,b)\n",
    "toc = time.time()  # capture end time\n",
    "\n",
    "print(f\"my_dot(a, b) =  {c:.4f}\")\n",
    "print(f\"loop version duration: {1000*(toc-tic):.4f} ms \")\n",
    "\n",
    "del(a);del(b)  #remove these big arrays from memory\n"
   ]
  }
 ],
 "metadata": {
  "kernelspec": {
   "display_name": "Python 3",
   "language": "python",
   "name": "python3"
  },
  "language_info": {
   "codemirror_mode": {
    "name": "ipython",
    "version": 3
   },
   "file_extension": ".py",
   "mimetype": "text/x-python",
   "name": "python",
   "nbconvert_exporter": "python",
   "pygments_lexer": "ipython3",
   "version": "3.10.6"
  },
  "orig_nbformat": 4
 },
 "nbformat": 4,
 "nbformat_minor": 2
}
